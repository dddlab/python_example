{
 "cells": [
  {
   "cell_type": "code",
   "execution_count": 1,
   "metadata": {},
   "outputs": [],
   "source": [
    "import _gaccord as m"
   ]
  },
  {
   "cell_type": "code",
   "execution_count": 2,
   "metadata": {},
   "outputs": [],
   "source": [
    "from numpy.random import uniform\n",
    "\n",
    "X = uniform(-1, 1, 1000)\n",
    "\n",
    "X = X.reshape(10,100)"
   ]
  },
  {
   "cell_type": "code",
   "execution_count": 3,
   "metadata": {},
   "outputs": [],
   "source": [
    "# sample covariance matrix\n",
    "import numpy as np\n",
    "S = np.cov(X, rowvar=False)\n"
   ]
  },
  {
   "cell_type": "code",
   "execution_count": 8,
   "metadata": {},
   "outputs": [],
   "source": [
    "M = m.accord(S)"
   ]
  },
  {
   "cell_type": "code",
   "execution_count": null,
   "metadata": {},
   "outputs": [],
   "source": [
    "M = np.array(....)\n",
    "m.accord(S, M)"
   ]
  },
  {
   "cell_type": "code",
   "execution_count": 7,
   "metadata": {},
   "outputs": [
    {
     "data": {
      "text/plain": [
       "matrix([[1., 0., 0., ..., 0., 0., 0.],\n",
       "        [0., 1., 0., ..., 0., 0., 0.],\n",
       "        [0., 0., 1., ..., 0., 0., 0.],\n",
       "        ...,\n",
       "        [0., 0., 0., ..., 1., 0., 0.],\n",
       "        [0., 0., 0., ..., 0., 1., 0.],\n",
       "        [0., 0., 0., ..., 0., 0., 1.]])"
      ]
     },
     "execution_count": 7,
     "metadata": {},
     "output_type": "execute_result"
    }
   ],
   "source": [
    "M.todense()"
   ]
  },
  {
   "cell_type": "code",
   "execution_count": 6,
   "metadata": {},
   "outputs": [
    {
     "data": {
      "text/plain": [
       "True"
      ]
     },
     "execution_count": 6,
     "metadata": {},
     "output_type": "execute_result"
    }
   ],
   "source": [
    "m.add(1, 2) == 3"
   ]
  },
  {
   "cell_type": "code",
   "execution_count": null,
   "metadata": {},
   "outputs": [],
   "source": [
    "assert m.subtract(1, 2) == -1"
   ]
  },
  {
   "cell_type": "code",
   "execution_count": null,
   "metadata": {},
   "outputs": [],
   "source": [
    "m."
   ]
  },
  {
   "cell_type": "code",
   "execution_count": 1,
   "metadata": {},
   "outputs": [
    {
     "name": "stdout",
     "output_type": "stream",
     "text": [
      "/home/jovyan/work\n"
     ]
    }
   ],
   "source": [
    "%cd .."
   ]
  },
  {
   "cell_type": "code",
   "execution_count": 2,
   "metadata": {},
   "outputs": [],
   "source": [
    "%load_ext autoreload\n",
    "%autoreload 3\n",
    "\n",
    "import numpy as np\n",
    "import pandas as pd\n",
    "from gaccord import GraphicalAccord\n",
    "from utils import standardize, partial_corr, pseudo_BIC\n",
    "from generate_graphs import generate_erdos_renyi, generate_data\n",
    "\n",
    "np.random.seed(3)\n",
    "\n",
    "# true precision matrix\n",
    "Theta = np.zeros((3,3), order=\"C\")\n",
    "Theta[0, 1] = 2.1\n",
    "Theta[1, 2] = -2.1\n",
    "Theta += Theta.T\n",
    "np.fill_diagonal(Theta, 3)\n",
    "Partial_corr = partial_corr(Theta)\n",
    "\n",
    "# true covariance matrix\n",
    "Sigma = np.linalg.inv(Theta)\n",
    "\n",
    "# observations\n",
    "X = np.random.multivariate_normal([0]*3, Sigma, 500)\n",
    "\n",
    "# sample covariance matrix\n",
    "S = np.cov(X, rowvar=False)"
   ]
  },
  {
   "cell_type": "code",
   "execution_count": 3,
   "metadata": {},
   "outputs": [
    {
     "data": {
      "text/plain": [
       "array([ 0.11686885,  0.36957176,  1.16868854,  3.69571765, 11.68688536])"
      ]
     },
     "execution_count": 3,
     "metadata": {},
     "output_type": "execute_result"
    }
   ],
   "source": [
    "S.flat[::S.shape[0] + 1] = 0\n",
    "lam_max = np.max(np.abs(S))\n",
    "lam_min = 0.01 * lam_max\n",
    "lams = np.logspace(np.log10(lam_min), np.log10(lam_max), 5)\n",
    "lams"
   ]
  },
  {
   "cell_type": "code",
   "execution_count": 4,
   "metadata": {},
   "outputs": [
    {
     "ename": "",
     "evalue": "",
     "output_type": "error",
     "traceback": [
      "\u001b[1;31mThe Kernel crashed while executing code in the the current cell or a previous cell. Please review the code in the cell(s) to identify a possible cause of the failure. Click <a href='https://aka.ms/vscodeJupyterKernelCrash'>here</a> for more info. View Jupyter <a href='command:jupyter.viewOutput'>log</a> for further details."
     ]
    }
   ],
   "source": [
    "model = GraphicalAccord(lam1=0.5, lam2=0, epstol=1e-7, maxitr=500, penalize_diag=True)\n",
    "model.fit(X)\n",
    "Theta_hat = model.precision_.toarray()\n",
    "Partial_corr_hat = partial_corr(Theta_hat)\n",
    "\n",
    "lam_mat = np.where(Theta_hat != 0, 0, 100.0)\n",
    "model = GraphicalAccord(lam1=lam_mat, lam2=0, epstol=1e-7, maxitr=500, penalize_diag=True)\n",
    "model.fit(X)\n",
    "Theta_hat_debiased = model.precision_.toarray()\n",
    "Partial_corr_hat_debiased = partial_corr(Theta_hat_debiased)\n",
    "print('True partial correlation matrix:\\n %s\\n' % (Partial_corr))\n",
    "print('Estimated partial correlation matrix:\\n %s\\n' % (Partial_corr_hat))\n",
    "print('Debiased partial correlation matrix:\\n %s\\n' % (Partial_corr_hat_debiased))\n",
    "\n",
    "print('Frobenius norm diff (biased):\\n %s\\n' % (np.linalg.norm(Partial_corr - Partial_corr_hat)))\n",
    "print('Frobenius norm diff (debiased):\\n %s\\n' % (np.linalg.norm(Partial_corr - Partial_corr_hat_debiased)))"
   ]
  },
  {
   "cell_type": "code",
   "execution_count": null,
   "metadata": {},
   "outputs": [],
   "source": []
  },
  {
   "cell_type": "code",
   "execution_count": null,
   "metadata": {},
   "outputs": [],
   "source": []
  },
  {
   "cell_type": "code",
   "execution_count": 5,
   "metadata": {},
   "outputs": [],
   "source": [
    "n, p = 500, 1000\n",
    "n_prop_to_p = [0.5]\n",
    "Theta, Sigma = generate_erdos_renyi(p, type='peng', edge_prob=0.01, lower_weight=0.5, upper_weight=1.0, spread_diag=[1, np.sqrt(3)], random_state=2023)\n",
    "Rho = partial_corr(Theta)\n",
    "\n",
    "Xs = generate_data(p, n_prop_to_p, Sigma, N=1, random_state=2023)\n",
    "X = Xs[0]"
   ]
  },
  {
   "cell_type": "code",
   "execution_count": 6,
   "metadata": {},
   "outputs": [
    {
     "ename": "",
     "evalue": "",
     "output_type": "error",
     "traceback": [
      "\u001b[1;31mThe Kernel crashed while executing code in the the current cell or a previous cell. Please review the code in the cell(s) to identify a possible cause of the failure. Click <a href='https://aka.ms/vscodeJupyterKernelCrash'>here</a> for more info. View Jupyter <a href='command:jupyter.viewOutput'>log</a> for further details."
     ]
    }
   ],
   "source": [
    "model = GraphicalAccord(lam1=0.12, lam2=0, epstol=1e-7, maxitr=500, penalize_diag=True)\n",
    "model.fit(X)\n",
    "Theta_hat = model.precision_.toarray()\n",
    "Partial_corr_hat = partial_corr(Theta_hat)"
   ]
  },
  {
   "cell_type": "code",
   "execution_count": null,
   "metadata": {},
   "outputs": [],
   "source": []
  }
 ],
 "metadata": {
  "kernelspec": {
   "display_name": "Python 3 (ipykernel)",
   "language": "python",
   "name": "python3"
  },
  "language_info": {
   "codemirror_mode": {
    "name": "ipython",
    "version": 3
   },
   "file_extension": ".py",
   "mimetype": "text/x-python",
   "name": "python",
   "nbconvert_exporter": "python",
   "pygments_lexer": "ipython3",
   "version": "3.10.11"
  },
  "orig_nbformat": 4,
  "vscode": {
   "interpreter": {
    "hash": "d4d1e4263499bec80672ea0156c357c1ee493ec2b1c70f0acce89fc37c4a6abe"
   }
  }
 },
 "nbformat": 4,
 "nbformat_minor": 2
}
